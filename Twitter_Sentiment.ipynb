{
  "nbformat": 4,
  "nbformat_minor": 0,
  "metadata": {
    "colab": {
      "provenance": []
    },
    "kernelspec": {
      "name": "python3",
      "display_name": "Python 3"
    },
    "language_info": {
      "name": "python"
    }
  },
  "cells": [
    {
      "cell_type": "code",
      "source": [
        "from google.colab import drive\n",
        "drive.mount('/content/drive')"
      ],
      "metadata": {
        "id": "uNflOCUIBkoS",
        "colab": {
          "base_uri": "https://localhost:8080/"
        },
        "outputId": "f990aacd-3fe4-4b57-89db-c7783415c2e5"
      },
      "execution_count": null,
      "outputs": [
        {
          "output_type": "stream",
          "name": "stdout",
          "text": [
            "Mounted at /content/drive\n"
          ]
        }
      ]
    },
    {
      "cell_type": "code",
      "source": [
        "# install the pyspark\n",
        "!pip install pyspark\n",
        "!pip install -U -q PyDrive\n",
        "!apt install openjdk-8-jdk-headless -qq"
      ],
      "metadata": {
        "colab": {
          "base_uri": "https://localhost:8080/"
        },
        "id": "Emw56p2rBuQa",
        "outputId": "8a2abd14-43dd-4d42-d910-cf8ef36da3f0"
      },
      "execution_count": null,
      "outputs": [
        {
          "output_type": "stream",
          "name": "stdout",
          "text": [
            "Looking in indexes: https://pypi.org/simple, https://us-python.pkg.dev/colab-wheels/public/simple/\n",
            "Collecting pyspark\n",
            "  Downloading pyspark-3.3.0.tar.gz (281.3 MB)\n",
            "\u001b[K     |████████████████████████████████| 281.3 MB 40 kB/s \n",
            "\u001b[?25hCollecting py4j==0.10.9.5\n",
            "  Downloading py4j-0.10.9.5-py2.py3-none-any.whl (199 kB)\n",
            "\u001b[K     |████████████████████████████████| 199 kB 48.1 MB/s \n",
            "\u001b[?25hBuilding wheels for collected packages: pyspark\n",
            "  Building wheel for pyspark (setup.py) ... \u001b[?25l\u001b[?25hdone\n",
            "  Created wheel for pyspark: filename=pyspark-3.3.0-py2.py3-none-any.whl size=281764026 sha256=98756634bfde507edb080a863d8f1ac7e674afd4cf3f55c530da0ef4eb78fc12\n",
            "  Stored in directory: /root/.cache/pip/wheels/7a/8e/1b/f73a52650d2e5f337708d9f6a1750d451a7349a867f928b885\n",
            "Successfully built pyspark\n",
            "Installing collected packages: py4j, pyspark\n",
            "Successfully installed py4j-0.10.9.5 pyspark-3.3.0\n",
            "The following package was automatically installed and is no longer required:\n",
            "  libnvidia-common-460\n",
            "Use 'apt autoremove' to remove it.\n",
            "The following additional packages will be installed:\n",
            "  openjdk-8-jre-headless\n",
            "Suggested packages:\n",
            "  openjdk-8-demo openjdk-8-source libnss-mdns fonts-dejavu-extra\n",
            "  fonts-ipafont-gothic fonts-ipafont-mincho fonts-wqy-microhei\n",
            "  fonts-wqy-zenhei fonts-indic\n",
            "The following NEW packages will be installed:\n",
            "  openjdk-8-jdk-headless openjdk-8-jre-headless\n",
            "0 upgraded, 2 newly installed, 0 to remove and 49 not upgraded.\n",
            "Need to get 36.5 MB of archives.\n",
            "After this operation, 143 MB of additional disk space will be used.\n",
            "Selecting previously unselected package openjdk-8-jre-headless:amd64.\n",
            "(Reading database ... 155653 files and directories currently installed.)\n",
            "Preparing to unpack .../openjdk-8-jre-headless_8u312-b07-0ubuntu1~18.04_amd64.deb ...\n",
            "Unpacking openjdk-8-jre-headless:amd64 (8u312-b07-0ubuntu1~18.04) ...\n",
            "Selecting previously unselected package openjdk-8-jdk-headless:amd64.\n",
            "Preparing to unpack .../openjdk-8-jdk-headless_8u312-b07-0ubuntu1~18.04_amd64.deb ...\n",
            "Unpacking openjdk-8-jdk-headless:amd64 (8u312-b07-0ubuntu1~18.04) ...\n",
            "Setting up openjdk-8-jre-headless:amd64 (8u312-b07-0ubuntu1~18.04) ...\n",
            "update-alternatives: using /usr/lib/jvm/java-8-openjdk-amd64/jre/bin/orbd to provide /usr/bin/orbd (orbd) in auto mode\n",
            "update-alternatives: using /usr/lib/jvm/java-8-openjdk-amd64/jre/bin/servertool to provide /usr/bin/servertool (servertool) in auto mode\n",
            "update-alternatives: using /usr/lib/jvm/java-8-openjdk-amd64/jre/bin/tnameserv to provide /usr/bin/tnameserv (tnameserv) in auto mode\n",
            "Setting up openjdk-8-jdk-headless:amd64 (8u312-b07-0ubuntu1~18.04) ...\n",
            "update-alternatives: using /usr/lib/jvm/java-8-openjdk-amd64/bin/idlj to provide /usr/bin/idlj (idlj) in auto mode\n",
            "update-alternatives: using /usr/lib/jvm/java-8-openjdk-amd64/bin/wsimport to provide /usr/bin/wsimport (wsimport) in auto mode\n",
            "update-alternatives: using /usr/lib/jvm/java-8-openjdk-amd64/bin/jsadebugd to provide /usr/bin/jsadebugd (jsadebugd) in auto mode\n",
            "update-alternatives: using /usr/lib/jvm/java-8-openjdk-amd64/bin/native2ascii to provide /usr/bin/native2ascii (native2ascii) in auto mode\n",
            "update-alternatives: using /usr/lib/jvm/java-8-openjdk-amd64/bin/javah to provide /usr/bin/javah (javah) in auto mode\n",
            "update-alternatives: using /usr/lib/jvm/java-8-openjdk-amd64/bin/hsdb to provide /usr/bin/hsdb (hsdb) in auto mode\n",
            "update-alternatives: using /usr/lib/jvm/java-8-openjdk-amd64/bin/clhsdb to provide /usr/bin/clhsdb (clhsdb) in auto mode\n",
            "update-alternatives: using /usr/lib/jvm/java-8-openjdk-amd64/bin/xjc to provide /usr/bin/xjc (xjc) in auto mode\n",
            "update-alternatives: using /usr/lib/jvm/java-8-openjdk-amd64/bin/schemagen to provide /usr/bin/schemagen (schemagen) in auto mode\n",
            "update-alternatives: using /usr/lib/jvm/java-8-openjdk-amd64/bin/extcheck to provide /usr/bin/extcheck (extcheck) in auto mode\n",
            "update-alternatives: using /usr/lib/jvm/java-8-openjdk-amd64/bin/jhat to provide /usr/bin/jhat (jhat) in auto mode\n",
            "update-alternatives: using /usr/lib/jvm/java-8-openjdk-amd64/bin/wsgen to provide /usr/bin/wsgen (wsgen) in auto mode\n"
          ]
        }
      ]
    },
    {
      "cell_type": "code",
      "source": [
        "!pip install vaderSentiment"
      ],
      "metadata": {
        "colab": {
          "base_uri": "https://localhost:8080/"
        },
        "id": "PR8nnWrGWLkz",
        "outputId": "ccc54a80-bb7b-41c4-88a8-c9ce0f7d76af"
      },
      "execution_count": null,
      "outputs": [
        {
          "output_type": "stream",
          "name": "stdout",
          "text": [
            "Looking in indexes: https://pypi.org/simple, https://us-python.pkg.dev/colab-wheels/public/simple/\n",
            "Collecting vaderSentiment\n",
            "  Downloading vaderSentiment-3.3.2-py2.py3-none-any.whl (125 kB)\n",
            "\u001b[K     |████████████████████████████████| 125 kB 8.3 MB/s \n",
            "\u001b[?25hRequirement already satisfied: requests in /usr/local/lib/python3.7/dist-packages (from vaderSentiment) (2.23.0)\n",
            "Requirement already satisfied: chardet<4,>=3.0.2 in /usr/local/lib/python3.7/dist-packages (from requests->vaderSentiment) (3.0.4)\n",
            "Requirement already satisfied: certifi>=2017.4.17 in /usr/local/lib/python3.7/dist-packages (from requests->vaderSentiment) (2022.6.15)\n",
            "Requirement already satisfied: idna<3,>=2.5 in /usr/local/lib/python3.7/dist-packages (from requests->vaderSentiment) (2.10)\n",
            "Requirement already satisfied: urllib3!=1.25.0,!=1.25.1,<1.26,>=1.21.1 in /usr/local/lib/python3.7/dist-packages (from requests->vaderSentiment) (1.24.3)\n",
            "Installing collected packages: vaderSentiment\n",
            "Successfully installed vaderSentiment-3.3.2\n"
          ]
        }
      ]
    },
    {
      "cell_type": "code",
      "source": [
        "# import the libraries\n",
        "import pandas as pd\n",
        "import numpy as np\n",
        "import matplotlib.pyplot as plt\n",
        "from matplotlib.pyplot import figure\n",
        "from matplotlib import pyplot\n",
        "import matplotlib.pyplot as plt\n",
        "import seaborn as sns\n",
        "%matplotlib inline\n",
        "import pyspark\n",
        "from pyspark.sql import *\n",
        "from pyspark.sql.functions import *\n",
        "from pyspark import SparkContext, SparkConf\n",
        "from pyspark.ml import Pipeline\n",
        "from pyspark.sql.functions import *\n",
        "from pyspark.sql import functions as f, udf\n",
        "from pyspark.sql.window import Window\n",
        "from pyspark.sql.functions import col\n",
        "from pyspark.sql.functions import col,isnan, when, count\n",
        "from textblob import TextBlob\n",
        "from pyspark.sql import SparkSession\n",
        "from pyspark.sql import functions as F\n",
        "from pyspark.sql.functions import format_number as fmt\n",
        "from pyspark.sql.functions import udf\n",
        "from pyspark.sql.types import *\n",
        "from pyspark.ml.feature import Tokenizer,StopWordsRemover,Word2Vec\n",
        "from pyspark.ml import PipelineModel\n",
        "from pyspark.ml.evaluation import BinaryClassificationEvaluator\n",
        "import re\n",
        "import numpy as np\n",
        "import pandas as pd\n",
        "from vaderSentiment.vaderSentiment import SentimentIntensityAnalyzer\n",
        "import nltk\n",
        "import folium\n",
        "from os import path, getcwd\n",
        "from PIL import Image\n",
        "from wordcloud import WordCloud, STOPWORDS\n",
        "from pyspark.sql.functions import when"
      ],
      "metadata": {
        "id": "OwHHN659BwXK"
      },
      "execution_count": null,
      "outputs": []
    },
    {
      "cell_type": "code",
      "source": [
        "# create the session\n",
        "conf = pyspark.SparkConf()\n",
        "# create the context\n",
        "sc = pyspark.SparkContext.getOrCreate(conf=conf)\n",
        "sqlcontext = SQLContext(sc)\n",
        "spark = SparkSession.builder.getOrCreate()"
      ],
      "metadata": {
        "colab": {
          "base_uri": "https://localhost:8080/"
        },
        "id": "EAUgkVJLBxOT",
        "outputId": "3193023d-c0de-4e2a-bcc3-182b5737d127"
      },
      "execution_count": null,
      "outputs": [
        {
          "output_type": "stream",
          "name": "stderr",
          "text": [
            "/usr/local/lib/python3.7/dist-packages/pyspark/sql/context.py:114: FutureWarning: Deprecated in 3.0.0. Use SparkSession.builder.getOrCreate() instead.\n",
            "  FutureWarning,\n"
          ]
        }
      ]
    },
    {
      "cell_type": "code",
      "source": [
        "# read the data and display\n",
        "data = spark.read.csv('/content/drive/MyDrive/Scraped Twitter Data.csv',header='true')\n",
        "# data = spark.read.csv('/content/drive/MyDrive/23-07-2022/Scraped Twitter Data.csv',header='true')\n",
        "data.show(5)"
      ],
      "metadata": {
        "colab": {
          "base_uri": "https://localhost:8080/"
        },
        "id": "KdqU_zAY_9g_",
        "outputId": "8f896109-628a-4141-b73b-f48d64abda40"
      },
      "execution_count": null,
      "outputs": [
        {
          "output_type": "stream",
          "name": "stdout",
          "text": [
            "+---+---------+-------------+--------+-------------------+--------------------+-----------+\n",
            "|_c0|user_name|user_location|language|               date|                text|   hashtags|\n",
            "+---+---------+-------------+--------+-------------------+--------------------+-----------+\n",
            "|  0| Reported|          NYC|      en|2022-07-20 20:51:16|The driver T73791...|['nyctaxi']|\n",
            "|  1| Reported|          NYC|      en|2022-07-20 20:35:58|The driver Y20081...|['nyctaxi']|\n",
            "|  2| Reported|          NYC|      en|2022-07-20 20:33:52|The driver T78776...|['nyctaxi']|\n",
            "|  3| Reported|          NYC|      en|2022-07-20 20:30:50|The driver T75437...|['nyctaxi']|\n",
            "|  4| Reported|          NYC|      en|2022-07-20 20:25:01|The driver Y20272...|['nyctaxi']|\n",
            "+---+---------+-------------+--------+-------------------+--------------------+-----------+\n",
            "only showing top 5 rows\n",
            "\n"
          ]
        }
      ]
    },
    {
      "cell_type": "code",
      "source": [
        "data.printSchema()"
      ],
      "metadata": {
        "colab": {
          "base_uri": "https://localhost:8080/"
        },
        "id": "ZYjfs6CrdPqq",
        "outputId": "e6518bf0-541c-4f46-f432-9cb6e39d558b"
      },
      "execution_count": null,
      "outputs": [
        {
          "output_type": "stream",
          "name": "stdout",
          "text": [
            "root\n",
            " |-- _c0: string (nullable = true)\n",
            " |-- user_name: string (nullable = true)\n",
            " |-- user_location: string (nullable = true)\n",
            " |-- language: string (nullable = true)\n",
            " |-- date: string (nullable = true)\n",
            " |-- text: string (nullable = true)\n",
            " |-- hashtags: string (nullable = true)\n",
            "\n"
          ]
        }
      ]
    },
    {
      "cell_type": "code",
      "source": [
        "# find the null values in the data\n",
        "data.select([count(when(isnan(c) | col(c).isNull(), c)).alias(c) for c in data.columns]).show()"
      ],
      "metadata": {
        "colab": {
          "base_uri": "https://localhost:8080/"
        },
        "id": "O3K0iDJLpUCI",
        "outputId": "8c3243d8-f7df-4abe-97a3-abc99052eaf4"
      },
      "execution_count": null,
      "outputs": [
        {
          "output_type": "stream",
          "name": "stdout",
          "text": [
            "+---+---------+-------------+--------+----+----+--------+\n",
            "|_c0|user_name|user_location|language|date|text|hashtags|\n",
            "+---+---------+-------------+--------+----+----+--------+\n",
            "|  0|        0|            3|       2|   2|   2|      77|\n",
            "+---+---------+-------------+--------+----+----+--------+\n",
            "\n"
          ]
        }
      ]
    },
    {
      "cell_type": "code",
      "source": [
        "data=data.na.drop()"
      ],
      "metadata": {
        "id": "x-g5kxtLpl9h"
      },
      "execution_count": null,
      "outputs": []
    },
    {
      "cell_type": "code",
      "source": [
        "# find the null values in the data\n",
        "data.select([count(when(isnan(c) | col(c).isNull(), c)).alias(c) for c in data.columns]).show()"
      ],
      "metadata": {
        "colab": {
          "base_uri": "https://localhost:8080/"
        },
        "id": "Ag9YcOu9pvTN",
        "outputId": "936ed14b-fbed-476f-d2ad-ab8159715a56"
      },
      "execution_count": null,
      "outputs": [
        {
          "output_type": "stream",
          "name": "stdout",
          "text": [
            "+---+---------+-------------+--------+----+----+--------+\n",
            "|_c0|user_name|user_location|language|date|text|hashtags|\n",
            "+---+---------+-------------+--------+----+----+--------+\n",
            "|  0|        0|            0|       0|   0|   0|       0|\n",
            "+---+---------+-------------+--------+----+----+--------+\n",
            "\n"
          ]
        }
      ]
    },
    {
      "cell_type": "code",
      "source": [
        "def removePattern(inputText, pattern):\n",
        "    r = re.findall(pattern, inputText)\n",
        "    for i in r:\n",
        "        inputText = re.sub(i, '', inputText)\n",
        "    return inputText\n",
        "\n",
        "def cleanTweet(text):\n",
        "    '''\n",
        "    Remove twitter return handles (RT @xxx:)\n",
        "    '''\n",
        "    txt = removePattern(text, 'RT @[\\w]*:')\n",
        "    '''\n",
        "    Remove twitter handles (@xxx)\n",
        "    '''\n",
        "    txt = removePattern(txt, '@[\\w]*')\n",
        "    '''\n",
        "    Remove URL links (httpxxx)\n",
        "    '''\n",
        "    txt = removePattern(txt, 'https?://[A-Za-z0-9./]*')\n",
        "    '''\n",
        "    Remove special characters, numbers, punctuations\n",
        "    '''\n",
        "    txt = re.sub('[^A-Za-z]+', ' ', txt)\n",
        "    return txt\n",
        "\n",
        "def getCleanTweetText(filteredTweetText):\n",
        "    return ' '.join(filteredTweetText)\n",
        "\n",
        "def getSentimentScore(tweetText):\n",
        "    analyzer = SentimentIntensityAnalyzer()\n",
        "    vs = analyzer.polarity_scores(tweetText)\n",
        "    return float(vs['compound'])\n",
        "\n",
        "def getSentiment(score):\n",
        "    if score>0:\n",
        "      return 1\n",
        "    elif score<0:\n",
        "      return -1\n",
        "    else:\n",
        "      return 0\n",
        "\n",
        "    # return 1 if score > 0 else 0\n",
        "\n",
        "\n",
        "def getTweetArray(tweet):\n",
        "    return tweet.split(' ')"
      ],
      "metadata": {
        "id": "aSW9bbi5YZXy"
      },
      "execution_count": null,
      "outputs": []
    },
    {
      "cell_type": "code",
      "source": [
        "udfCleanTweet = udf(cleanTweet, StringType())\n",
        "dfCleanTweet=data.withColumn('cleanTweetText', udfCleanTweet('text'))\n",
        "dfCleanTweet.select('text','cleanTweetText').show(5)"
      ],
      "metadata": {
        "colab": {
          "base_uri": "https://localhost:8080/"
        },
        "id": "Bx56zijUY6-y",
        "outputId": "db4ec8ed-c749-4f73-b1f2-d7edcf1b858f"
      },
      "execution_count": null,
      "outputs": [
        {
          "output_type": "stream",
          "name": "stdout",
          "text": [
            "+--------------------+--------------------+\n",
            "|                text|      cleanTweetText|\n",
            "+--------------------+--------------------+\n",
            "|The driver T73791...|The driver T C bl...|\n",
            "|The driver Y20081...|The driver Y C ra...|\n",
            "|The driver T78776...|The driver T C pa...|\n",
            "|The driver T75437...|The driver T C bl...|\n",
            "|The driver Y20272...|The driver Y C ra...|\n",
            "+--------------------+--------------------+\n",
            "only showing top 5 rows\n",
            "\n"
          ]
        }
      ]
    },
    {
      "cell_type": "code",
      "source": [
        "tokenizer = Tokenizer(inputCol='cleanTweetText', outputCol='words')\n",
        "dfCleanTweetTokenized = tokenizer.transform(dfCleanTweet)\n",
        "dfCleanTweetTokenized.select('text','cleanTweetText','words').show(5)"
      ],
      "metadata": {
        "id": "5akUJL2WVx6A",
        "colab": {
          "base_uri": "https://localhost:8080/"
        },
        "outputId": "329f646f-152b-45ec-a89e-037de90fa56d"
      },
      "execution_count": null,
      "outputs": [
        {
          "output_type": "stream",
          "name": "stdout",
          "text": [
            "+--------------------+--------------------+--------------------+\n",
            "|                text|      cleanTweetText|               words|\n",
            "+--------------------+--------------------+--------------------+\n",
            "|The driver T73791...|The driver T C bl...|[the, driver, t, ...|\n",
            "|The driver Y20081...|The driver Y C ra...|[the, driver, y, ...|\n",
            "|The driver T78776...|The driver T C pa...|[the, driver, t, ...|\n",
            "|The driver T75437...|The driver T C bl...|[the, driver, t, ...|\n",
            "|The driver Y20272...|The driver Y C ra...|[the, driver, y, ...|\n",
            "+--------------------+--------------------+--------------------+\n",
            "only showing top 5 rows\n",
            "\n"
          ]
        }
      ]
    },
    {
      "cell_type": "code",
      "source": [
        "remover = StopWordsRemover(inputCol='words', outputCol='filteredTweetText')\n",
        "dfStopwordRemoved=remover.transform(dfCleanTweetTokenized)\n",
        "dfStopwordRemoved.select('text','cleanTweetText','words','filteredTweetText').show(5)"
      ],
      "metadata": {
        "colab": {
          "base_uri": "https://localhost:8080/"
        },
        "id": "uVWhuckr9FFZ",
        "outputId": "4800fcb1-2afd-4b34-9df7-771a974a9ec9"
      },
      "execution_count": null,
      "outputs": [
        {
          "output_type": "stream",
          "name": "stdout",
          "text": [
            "+--------------------+--------------------+--------------------+--------------------+\n",
            "|                text|      cleanTweetText|               words|   filteredTweetText|\n",
            "+--------------------+--------------------+--------------------+--------------------+\n",
            "|The driver T73791...|The driver T C bl...|[the, driver, t, ...|[driver, c, block...|\n",
            "|The driver Y20081...|The driver Y C ra...|[the, driver, y, ...|[driver, y, c, ra...|\n",
            "|The driver T78776...|The driver T C pa...|[the, driver, t, ...|[driver, c, parke...|\n",
            "|The driver T75437...|The driver T C bl...|[the, driver, t, ...|[driver, c, block...|\n",
            "|The driver Y20272...|The driver Y C ra...|[the, driver, y, ...|[driver, y, c, ra...|\n",
            "+--------------------+--------------------+--------------------+--------------------+\n",
            "only showing top 5 rows\n",
            "\n"
          ]
        }
      ]
    },
    {
      "cell_type": "code",
      "source": [
        "udfCleanTweetText = udf(getCleanTweetText, StringType())\n",
        "dfFilteredCleanedTweet = dfStopwordRemoved.withColumn('filteredCleanedTweetText', udfCleanTweetText('filteredTweetText'))\n",
        "dfFilteredCleanedTweet.select('filteredCleanedTweetText').show(5)"
      ],
      "metadata": {
        "colab": {
          "base_uri": "https://localhost:8080/"
        },
        "id": "e_N5F-Mj9Gdv",
        "outputId": "a4e2ddcb-42fe-4e44-9a57-5186c71fd1ed"
      },
      "execution_count": null,
      "outputs": [
        {
          "output_type": "stream",
          "name": "stdout",
          "text": [
            "+------------------------+\n",
            "|filteredCleanedTweetText|\n",
            "+------------------------+\n",
            "|    driver c blocked ...|\n",
            "|    driver y c ran re...|\n",
            "|    driver c parked i...|\n",
            "|    driver c blocked ...|\n",
            "|    driver y c ran re...|\n",
            "+------------------------+\n",
            "only showing top 5 rows\n",
            "\n"
          ]
        }
      ]
    },
    {
      "cell_type": "code",
      "source": [
        "udfSentimentScore = udf(getSentimentScore, FloatType())\n",
        "dfSentimentScore = dfFilteredCleanedTweet.withColumn('sentimentScore', udfSentimentScore('filteredCleanedTweetText'))\n",
        "dfSentimentScore.select('filteredCleanedTweetText','sentimentScore').show(5)"
      ],
      "metadata": {
        "colab": {
          "base_uri": "https://localhost:8080/"
        },
        "id": "QHAePdUr9JYp",
        "outputId": "82a9d79e-b1ac-4a3b-a167-a2a33482243c"
      },
      "execution_count": null,
      "outputs": [
        {
          "output_type": "stream",
          "name": "stdout",
          "text": [
            "+------------------------+--------------+\n",
            "|filteredCleanedTweetText|sentimentScore|\n",
            "+------------------------+--------------+\n",
            "|    driver c blocked ...|       -0.2732|\n",
            "|    driver y c ran re...|        -0.296|\n",
            "|    driver c parked i...|           0.0|\n",
            "|    driver c blocked ...|       -0.2732|\n",
            "|    driver y c ran re...|        -0.296|\n",
            "+------------------------+--------------+\n",
            "only showing top 5 rows\n",
            "\n"
          ]
        }
      ]
    },
    {
      "cell_type": "code",
      "source": [
        "udfSentiment = udf(getSentiment, IntegerType())\n",
        "dfSentiment = dfSentimentScore.withColumn('Polarity', udfSentiment('sentimentScore'))\n",
        "dfSentiment.select('filteredCleanedTweetText','sentimentScore','Polarity').show(5)"
      ],
      "metadata": {
        "colab": {
          "base_uri": "https://localhost:8080/"
        },
        "id": "wBob6O1X9Mhy",
        "outputId": "527ce37c-1825-4696-f09e-f4bf966a007c"
      },
      "execution_count": null,
      "outputs": [
        {
          "output_type": "stream",
          "name": "stdout",
          "text": [
            "+------------------------+--------------+--------+\n",
            "|filteredCleanedTweetText|sentimentScore|Polarity|\n",
            "+------------------------+--------------+--------+\n",
            "|    driver c blocked ...|       -0.2732|      -1|\n",
            "|    driver y c ran re...|        -0.296|      -1|\n",
            "|    driver c parked i...|           0.0|       0|\n",
            "|    driver c blocked ...|       -0.2732|      -1|\n",
            "|    driver y c ran re...|        -0.296|      -1|\n",
            "+------------------------+--------------+--------+\n",
            "only showing top 5 rows\n",
            "\n"
          ]
        }
      ]
    },
    {
      "cell_type": "code",
      "source": [
        "dfSentiment.show(5)"
      ],
      "metadata": {
        "colab": {
          "base_uri": "https://localhost:8080/"
        },
        "id": "TvuzaS8h96zK",
        "outputId": "97c0a205-6a7e-4165-e80a-e2dd9bc85311"
      },
      "execution_count": null,
      "outputs": [
        {
          "output_type": "stream",
          "name": "stdout",
          "text": [
            "+---+---------+-------------+--------+-------------------+--------------------+-----------+--------------------+--------------------+--------------------+------------------------+--------------+--------+\n",
            "|_c0|user_name|user_location|language|               date|                text|   hashtags|      cleanTweetText|               words|   filteredTweetText|filteredCleanedTweetText|sentimentScore|Polarity|\n",
            "+---+---------+-------------+--------+-------------------+--------------------+-----------+--------------------+--------------------+--------------------+------------------------+--------------+--------+\n",
            "|  0| Reported|          NYC|      en|2022-07-20 20:51:16|The driver T73791...|['nyctaxi']|The driver T C bl...|[the, driver, t, ...|[driver, c, block...|    driver c blocked ...|       -0.2732|      -1|\n",
            "|  1| Reported|          NYC|      en|2022-07-20 20:35:58|The driver Y20081...|['nyctaxi']|The driver Y C ra...|[the, driver, y, ...|[driver, y, c, ra...|    driver y c ran re...|        -0.296|      -1|\n",
            "|  2| Reported|          NYC|      en|2022-07-20 20:33:52|The driver T78776...|['nyctaxi']|The driver T C pa...|[the, driver, t, ...|[driver, c, parke...|    driver c parked i...|           0.0|       0|\n",
            "|  3| Reported|          NYC|      en|2022-07-20 20:30:50|The driver T75437...|['nyctaxi']|The driver T C bl...|[the, driver, t, ...|[driver, c, block...|    driver c blocked ...|       -0.2732|      -1|\n",
            "|  4| Reported|          NYC|      en|2022-07-20 20:25:01|The driver Y20272...|['nyctaxi']|The driver Y C ra...|[the, driver, y, ...|[driver, y, c, ra...|    driver y c ran re...|        -0.296|      -1|\n",
            "+---+---------+-------------+--------+-------------------+--------------------+-----------+--------------------+--------------------+--------------------+------------------------+--------------+--------+\n",
            "only showing top 5 rows\n",
            "\n"
          ]
        }
      ]
    },
    {
      "cell_type": "code",
      "source": [
        "dfSentiment.groupBy('Polarity').count().show()\n",
        "dfPlotVaderSentiment=dfSentiment.groupBy('Polarity').count().toPandas()\n",
        "dfPlotVaderSentiment"
      ],
      "metadata": {
        "colab": {
          "base_uri": "https://localhost:8080/",
          "height": 282
        },
        "id": "krDSkAVJ9MlK",
        "outputId": "92dad77d-e8df-406c-c673-5b6c6a0125f8"
      },
      "execution_count": null,
      "outputs": [
        {
          "output_type": "stream",
          "name": "stdout",
          "text": [
            "+--------+-----+\n",
            "|Polarity|count|\n",
            "+--------+-----+\n",
            "|      -1|   81|\n",
            "|       1|    5|\n",
            "|       0|   17|\n",
            "+--------+-----+\n",
            "\n"
          ]
        },
        {
          "output_type": "execute_result",
          "data": {
            "text/plain": [
              "   Polarity  count\n",
              "0        -1     81\n",
              "1         1      5\n",
              "2         0     17"
            ],
            "text/html": [
              "\n",
              "  <div id=\"df-2ed49e01-3be1-47b8-b9cd-2a4d13d71d2f\">\n",
              "    <div class=\"colab-df-container\">\n",
              "      <div>\n",
              "<style scoped>\n",
              "    .dataframe tbody tr th:only-of-type {\n",
              "        vertical-align: middle;\n",
              "    }\n",
              "\n",
              "    .dataframe tbody tr th {\n",
              "        vertical-align: top;\n",
              "    }\n",
              "\n",
              "    .dataframe thead th {\n",
              "        text-align: right;\n",
              "    }\n",
              "</style>\n",
              "<table border=\"1\" class=\"dataframe\">\n",
              "  <thead>\n",
              "    <tr style=\"text-align: right;\">\n",
              "      <th></th>\n",
              "      <th>Polarity</th>\n",
              "      <th>count</th>\n",
              "    </tr>\n",
              "  </thead>\n",
              "  <tbody>\n",
              "    <tr>\n",
              "      <th>0</th>\n",
              "      <td>-1</td>\n",
              "      <td>81</td>\n",
              "    </tr>\n",
              "    <tr>\n",
              "      <th>1</th>\n",
              "      <td>1</td>\n",
              "      <td>5</td>\n",
              "    </tr>\n",
              "    <tr>\n",
              "      <th>2</th>\n",
              "      <td>0</td>\n",
              "      <td>17</td>\n",
              "    </tr>\n",
              "  </tbody>\n",
              "</table>\n",
              "</div>\n",
              "      <button class=\"colab-df-convert\" onclick=\"convertToInteractive('df-2ed49e01-3be1-47b8-b9cd-2a4d13d71d2f')\"\n",
              "              title=\"Convert this dataframe to an interactive table.\"\n",
              "              style=\"display:none;\">\n",
              "        \n",
              "  <svg xmlns=\"http://www.w3.org/2000/svg\" height=\"24px\"viewBox=\"0 0 24 24\"\n",
              "       width=\"24px\">\n",
              "    <path d=\"M0 0h24v24H0V0z\" fill=\"none\"/>\n",
              "    <path d=\"M18.56 5.44l.94 2.06.94-2.06 2.06-.94-2.06-.94-.94-2.06-.94 2.06-2.06.94zm-11 1L8.5 8.5l.94-2.06 2.06-.94-2.06-.94L8.5 2.5l-.94 2.06-2.06.94zm10 10l.94 2.06.94-2.06 2.06-.94-2.06-.94-.94-2.06-.94 2.06-2.06.94z\"/><path d=\"M17.41 7.96l-1.37-1.37c-.4-.4-.92-.59-1.43-.59-.52 0-1.04.2-1.43.59L10.3 9.45l-7.72 7.72c-.78.78-.78 2.05 0 2.83L4 21.41c.39.39.9.59 1.41.59.51 0 1.02-.2 1.41-.59l7.78-7.78 2.81-2.81c.8-.78.8-2.07 0-2.86zM5.41 20L4 18.59l7.72-7.72 1.47 1.35L5.41 20z\"/>\n",
              "  </svg>\n",
              "      </button>\n",
              "      \n",
              "  <style>\n",
              "    .colab-df-container {\n",
              "      display:flex;\n",
              "      flex-wrap:wrap;\n",
              "      gap: 12px;\n",
              "    }\n",
              "\n",
              "    .colab-df-convert {\n",
              "      background-color: #E8F0FE;\n",
              "      border: none;\n",
              "      border-radius: 50%;\n",
              "      cursor: pointer;\n",
              "      display: none;\n",
              "      fill: #1967D2;\n",
              "      height: 32px;\n",
              "      padding: 0 0 0 0;\n",
              "      width: 32px;\n",
              "    }\n",
              "\n",
              "    .colab-df-convert:hover {\n",
              "      background-color: #E2EBFA;\n",
              "      box-shadow: 0px 1px 2px rgba(60, 64, 67, 0.3), 0px 1px 3px 1px rgba(60, 64, 67, 0.15);\n",
              "      fill: #174EA6;\n",
              "    }\n",
              "\n",
              "    [theme=dark] .colab-df-convert {\n",
              "      background-color: #3B4455;\n",
              "      fill: #D2E3FC;\n",
              "    }\n",
              "\n",
              "    [theme=dark] .colab-df-convert:hover {\n",
              "      background-color: #434B5C;\n",
              "      box-shadow: 0px 1px 3px 1px rgba(0, 0, 0, 0.15);\n",
              "      filter: drop-shadow(0px 1px 2px rgba(0, 0, 0, 0.3));\n",
              "      fill: #FFFFFF;\n",
              "    }\n",
              "  </style>\n",
              "\n",
              "      <script>\n",
              "        const buttonEl =\n",
              "          document.querySelector('#df-2ed49e01-3be1-47b8-b9cd-2a4d13d71d2f button.colab-df-convert');\n",
              "        buttonEl.style.display =\n",
              "          google.colab.kernel.accessAllowed ? 'block' : 'none';\n",
              "\n",
              "        async function convertToInteractive(key) {\n",
              "          const element = document.querySelector('#df-2ed49e01-3be1-47b8-b9cd-2a4d13d71d2f');\n",
              "          const dataTable =\n",
              "            await google.colab.kernel.invokeFunction('convertToInteractive',\n",
              "                                                     [key], {});\n",
              "          if (!dataTable) return;\n",
              "\n",
              "          const docLinkHtml = 'Like what you see? Visit the ' +\n",
              "            '<a target=\"_blank\" href=https://colab.research.google.com/notebooks/data_table.ipynb>data table notebook</a>'\n",
              "            + ' to learn more about interactive tables.';\n",
              "          element.innerHTML = '';\n",
              "          dataTable['output_type'] = 'display_data';\n",
              "          await google.colab.output.renderOutput(dataTable, element);\n",
              "          const docLink = document.createElement('div');\n",
              "          docLink.innerHTML = docLinkHtml;\n",
              "          element.appendChild(docLink);\n",
              "        }\n",
              "      </script>\n",
              "    </div>\n",
              "  </div>\n",
              "  "
            ]
          },
          "metadata": {},
          "execution_count": 19
        }
      ]
    },
    {
      "cell_type": "code",
      "source": [
        "sentimentsList=['Negative','Neutral','Positive']\n",
        "sns.set_style('darkgrid')\n",
        "sns.set_palette('rainbow')\n",
        "plt.figure(figsize=(10,8))\n",
        "sns.barplot(x='Polarity', y='count',data=dfPlotVaderSentiment, alpha=0.7)\n",
        "plt.title('Number of occurrences for each type of Sentiment',fontsize=18)\n",
        "plt.xticks(np.arange(3),sentimentsList)\n",
        "plt.setp(plt.gca().get_xticklabels(), fontsize=14)\n",
        "plt.xlabel('Sentiment',fontsize=16)\n",
        "plt.ylabel('Number of occurrences',fontsize=16)\n",
        "plt.show()"
      ],
      "metadata": {
        "colab": {
          "base_uri": "https://localhost:8080/",
          "height": 526
        },
        "id": "lYhI2xxs9awV",
        "outputId": "3ca532af-25dc-4f7f-83d6-1562d453157b"
      },
      "execution_count": null,
      "outputs": [
        {
          "output_type": "display_data",
          "data": {
            "text/plain": [
              "<Figure size 720x576 with 1 Axes>"
            ],
            "image/png": "[encoded data removed]"
          },
          "metadata": {}
        }
      ]
    },
    {
      "cell_type": "code",
      "source": [
        "dfSentiment=dfSentiment.withColumn(\"Sentiment\", lit('Negative'))"
      ],
      "metadata": {
        "id": "70Fb7YqHAiTJ"
      },
      "execution_count": null,
      "outputs": []
    },
    {
      "cell_type": "code",
      "source": [
        "data = dfSentiment.withColumn(\"Sentiment\", when(dfSentiment[\"Polarity\"] == 0, 'Neutral').otherwise(dfSentiment[\"Sentiment\"]))"
      ],
      "metadata": {
        "id": "NCMmeZmzEeHw"
      },
      "execution_count": null,
      "outputs": []
    },
    {
      "cell_type": "code",
      "source": [
        "data = data.withColumn(\"Sentiment\", when(data[\"Polarity\"] == 1, 'Positive').otherwise(data[\"Sentiment\"]))"
      ],
      "metadata": {
        "id": "qBmg8MUmGGIf"
      },
      "execution_count": null,
      "outputs": []
    },
    {
      "cell_type": "code",
      "source": [
        "data.show(100)"
      ],
      "metadata": {
        "colab": {
          "base_uri": "https://localhost:8080/"
        },
        "id": "o2K6aZ0hA06b",
        "outputId": "75a086c1-3df4-4f4f-ddf5-960a6cb9f8bd"
      },
      "execution_count": null,
      "outputs": [
        {
          "output_type": "stream",
          "name": "stdout",
          "text": [
            "+---+-----------------+-------------+--------+-------------------+--------------------+--------------------+--------------------+--------------------+--------------------+------------------------+--------------+--------+---------+\n",
            "|_c0|        user_name|user_location|language|               date|                text|            hashtags|      cleanTweetText|               words|   filteredTweetText|filteredCleanedTweetText|sentimentScore|Polarity|Sentiment|\n",
            "+---+-----------------+-------------+--------+-------------------+--------------------+--------------------+--------------------+--------------------+--------------------+------------------------+--------------+--------+---------+\n",
            "|  0|         Reported|          NYC|      en|2022-07-20 20:51:16|The driver T73791...|         ['nyctaxi']|The driver T C bl...|[the, driver, t, ...|[driver, c, block...|    driver c blocked ...|       -0.2732|      -1| Negative|\n",
            "|  1|         Reported|          NYC|      en|2022-07-20 20:35:58|The driver Y20081...|         ['nyctaxi']|The driver Y C ra...|[the, driver, y, ...|[driver, y, c, ra...|    driver y c ran re...|        -0.296|      -1| Negative|\n",
            "|  2|         Reported|          NYC|      en|2022-07-20 20:33:52|The driver T78776...|         ['nyctaxi']|The driver T C pa...|[the, driver, t, ...|[driver, c, parke...|    driver c parked i...|           0.0|       0|  Neutral|\n",
            "|  3|         Reported|          NYC|      en|2022-07-20 20:30:50|The driver T75437...|         ['nyctaxi']|The driver T C bl...|[the, driver, t, ...|[driver, c, block...|    driver c blocked ...|       -0.2732|      -1| Negative|\n",
            "|  4|         Reported|          NYC|      en|2022-07-20 20:25:01|The driver Y20272...|         ['nyctaxi']|The driver Y C ra...|[the, driver, y, ...|[driver, y, c, ra...|    driver y c ran re...|        -0.296|      -1| Negative|\n",
            "|  5|         Reported|          NYC|      en|2022-07-20 18:59:48|TOYOTA PRIUS V dr...|         ['nyctaxi']|TOYOTA PRIUS V dr...|[toyota, prius, v...|[toyota, prius, v...|    toyota prius v dr...|       -0.2732|      -1| Negative|\n",
            "|  8|         Reported|          NYC|      en|2022-07-20 18:38:44|TOYOTA Camry driv...|         ['nyctaxi']|TOYOTA Camry driv...|[toyota, camry, d...|[toyota, camry, d...|    toyota camry driv...|       -0.2732|      -1| Negative|\n",
            "|  9|         Reported|          NYC|      en|2022-07-20 18:36:36|HONDA Accord driv...|         ['nyctaxi']|HONDA Accord driv...|[honda, accord, d...|[honda, accord, d...|    honda accord driv...|       -0.2732|      -1| Negative|\n",
            "| 11|         Reported|          NYC|      en|2022-07-20 18:06:15|TOYOTA RAV4 drive...|         ['nyctaxi']|TOYOTA RAV driver...|[toyota, rav, dri...|[toyota, rav, dri...|    toyota rav driver...|       -0.2732|      -1| Negative|\n",
            "| 12|         Reported|          NYC|      en|2022-07-20 16:48:24|Honda Accord Spor...|         ['nyctaxi']|Honda Accord Spor...|[honda, accord, s...|[honda, accord, s...|    honda accord spor...|           0.0|       0|  Neutral|\n",
            "| 13|         Reported|          NYC|      en|2022-07-20 16:46:21|TOYOTA Camry driv...|         ['nyctaxi']|TOYOTA Camry driv...|[toyota, camry, d...|[toyota, camry, d...|    toyota camry driv...|       -0.2732|      -1| Negative|\n",
            "| 14|         Reported|          NYC|      en|2022-07-20 14:10:27|Toyota Camry L dr...|         ['nyctaxi']|Toyota Camry L dr...|[toyota, camry, l...|[toyota, camry, l...|    toyota camry l dr...|        0.2263|       1| Positive|\n",
            "| 15|         Reported|          NYC|      en|2022-07-20 13:31:20|INFINITI QX60 dri...|         ['nyctaxi']|INFINITI QX drive...|[infiniti, qx, dr...|[infiniti, qx, dr...|    infiniti qx drive...|        0.2263|       1| Positive|\n",
            "| 16|         Reported|          NYC|      en|2022-07-20 10:54:57|The driver Y20391...|         ['nyctaxi']|The driver Y C bl...|[the, driver, y, ...|[driver, y, c, bl...|    driver y c blocke...|       -0.2732|      -1| Negative|\n",
            "| 19|         Reported|          NYC|      en|2022-07-20 00:39:33|GMC Yukon driver ...|         ['nyctaxi']|GMC Yukon driver ...|[gmc, yukon, driv...|[gmc, yukon, driv...|    gmc yukon driver ...|       -0.2732|      -1| Negative|\n",
            "| 21|         Reported|          NYC|      en|2022-07-19 22:58:43|TOYOTA RAV4 drive...|         ['nyctaxi']|TOYOTA RAV driver...|[toyota, rav, dri...|[toyota, rav, dri...|    toyota rav driver...|           0.0|       0|  Neutral|\n",
            "| 22|         Reported|          NYC|      en|2022-07-19 22:50:12|The driver T63405...|         ['nyctaxi']|The driver T C bl...|[the, driver, t, ...|[driver, c, block...|    driver c blocked ...|       -0.2732|      -1| Negative|\n",
            "| 25|         Reported|          NYC|      en|2022-07-19 21:45:05|TOYOTA PRIUS driv...|         ['nyctaxi']|TOYOTA PRIUS driv...|[toyota, prius, d...|[toyota, prius, d...|    toyota prius driv...|       -0.2732|      -1| Negative|\n",
            "| 26|         Reported|          NYC|      en|2022-07-19 21:20:27|The driver Y20151...|         ['nyctaxi']|The driver Y C ra...|[the, driver, y, ...|[driver, y, c, ra...|    driver y c ran re...|        -0.296|      -1| Negative|\n",
            "| 27|         Reported|          NYC|      en|2022-07-19 20:02:22|TOYOTA Sienna dri...|         ['nyctaxi']|TOYOTA Sienna dri...|[toyota, sienna, ...|[toyota, sienna, ...|    toyota sienna dri...|       -0.2732|      -1| Negative|\n",
            "| 28|         Reported|          NYC|      en|2022-07-19 18:23:41|The driver T74605...|         ['nyctaxi']|The driver T C bl...|[the, driver, t, ...|[driver, c, block...|    driver c blocked ...|       -0.2732|      -1| Negative|\n",
            "| 29|         Reported|          NYC|      en|2022-07-19 17:53:37|The driver T69661...|         ['nyctaxi']|The driver T C bl...|[the, driver, t, ...|[driver, c, block...|    driver c blocked ...|       -0.2732|      -1| Negative|\n",
            "| 30|         Reported|          NYC|      en|2022-07-19 17:48:45|TOYOTA Camry driv...|         ['nyctaxi']|TOYOTA Camry driv...|[toyota, camry, d...|[toyota, camry, d...|    toyota camry driv...|       -0.2732|      -1| Negative|\n",
            "| 32|         Reported|          NYC|      en|2022-07-19 17:42:57|TOYOTA Highlander...|         ['nyctaxi']|TOYOTA Highlander...|[toyota, highland...|[toyota, highland...|    toyota highlander...|           0.0|       0|  Neutral|\n",
            "| 33|         Reported|          NYC|      en|2022-07-19 12:44:08|TOYOTA RAV4 drive...|         ['nyctaxi']|TOYOTA RAV driver...|[toyota, rav, dri...|[toyota, rav, dri...|    toyota rav driver...|           0.0|       0|  Neutral|\n",
            "| 35|         Reported|          NYC|      en|2022-07-19 07:47:48|FORD Fusion drive...|         ['nyctaxi']|FORD Fusion drive...|[ford, fusion, dr...|[ford, fusion, dr...|    ford fusion drive...|       -0.2732|      -1| Negative|\n",
            "| 36|         Reported|          NYC|      en|2022-07-19 07:45:46|The driver T79538...|         ['nyctaxi']|The driver T C bl...|[the, driver, t, ...|[driver, c, block...|    driver c blocked ...|       -0.2732|      -1| Negative|\n",
            "| 40|         Reported|          NYC|      en|2022-07-19 07:32:39|TESLA Model 3 dri...|         ['nyctaxi']|TESLA Model drive...|[tesla, model, dr...|[tesla, model, dr...|    tesla model drive...|       -0.2732|      -1| Negative|\n",
            "| 42|         Reported|          NYC|      en|2022-07-19 07:28:35|TOYOTA RAV4 drive...|         ['nyctaxi']|TOYOTA RAV driver...|[toyota, rav, dri...|[toyota, rav, dri...|    toyota rav driver...|       -0.2732|      -1| Negative|\n",
            "| 43|         Reported|          NYC|      en|2022-07-19 07:26:31|TOYOTA RAV4 drive...|         ['nyctaxi']|TOYOTA RAV driver...|[toyota, rav, dri...|[toyota, rav, dri...|    toyota rav driver...|       -0.2732|      -1| Negative|\n",
            "| 44|         Reported|          NYC|      en|2022-07-19 02:42:59|The driver T72913...|         ['nyctaxi']|The driver T C bl...|[the, driver, t, ...|[driver, c, block...|    driver c blocked ...|       -0.2732|      -1| Negative|\n",
            "| 47|         Reported|          NYC|      en|2022-07-19 02:32:57|GMC Acadia driver...|         ['nyctaxi']|GMC Acadia driver...|[gmc, acadia, dri...|[gmc, acadia, dri...|    gmc acadia driver...|       -0.2732|      -1| Negative|\n",
            "| 48|         Reported|          NYC|      en|2022-07-19 02:30:46|TOYOTA Camry driv...|         ['nyctaxi']|TOYOTA Camry driv...|[toyota, camry, d...|[toyota, camry, d...|    toyota camry driv...|       -0.2732|      -1| Negative|\n",
            "| 49|         Reported|          NYC|      en|2022-07-19 02:28:33|TOYOTA RAV4 drive...|         ['nyctaxi']|TOYOTA RAV driver...|[toyota, rav, dri...|[toyota, rav, dri...|    toyota rav driver...|       -0.2732|      -1| Negative|\n",
            "| 50|         Reported|          NYC|      en|2022-07-19 02:26:26|TOYOTA Camry driv...|         ['nyctaxi']|TOYOTA Camry driv...|[toyota, camry, d...|[toyota, camry, d...|    toyota camry driv...|       -0.2732|      -1| Negative|\n",
            "| 52|         Reported|          NYC|      en|2022-07-19 02:21:54|TOYOTA Camry driv...|         ['nyctaxi']|TOYOTA Camry driv...|[toyota, camry, d...|[toyota, camry, d...|    toyota camry driv...|       -0.2732|      -1| Negative|\n",
            "| 54|         Reported|          NYC|      en|2022-07-19 02:17:41|INFINITI QX60 dri...|         ['nyctaxi']|INFINITI QX drive...|[infiniti, qx, dr...|[infiniti, qx, dr...|    infiniti qx drive...|       -0.2732|      -1| Negative|\n",
            "| 58| alexander smalls|   Harlem, NY|      en|2022-07-19 01:36:58|Look at me…this i...|['newyorktaxi', '...|Look at me this i...|[look, at, me, th...|[look, happens, b...|    look happens back...|        0.7269|       1| Positive|\n",
            "| 59|         Reported|          NYC|      en|2022-07-19 01:15:04|TOYOTA Camry driv...|         ['nyctaxi']|TOYOTA Camry driv...|[toyota, camry, d...|[toyota, camry, d...|    toyota camry driv...|       -0.2732|      -1| Negative|\n",
            "| 61|         Reported|          NYC|      en|2022-07-19 01:09:30|The driver T65906...|         ['nyctaxi']|The driver T C bl...|[the, driver, t, ...|[driver, c, block...|    driver c blocked ...|       -0.2732|      -1| Negative|\n",
            "| 65|         Reported|          NYC|      en|2022-07-18 18:09:30|TOYOTA Prius V dr...|         ['nyctaxi']|TOYOTA Prius V dr...|[toyota, prius, v...|[toyota, prius, v...|    toyota prius v dr...|       -0.2732|      -1| Negative|\n",
            "| 66|         Reported|          NYC|      en|2022-07-18 18:07:20|The driver 4D74A ...|         ['nyctaxi']|The driver D A bl...|[the, driver, d, ...|[driver, d, block...|    driver d blocked ...|       -0.2732|      -1| Negative|\n",
            "| 68|         Reported|          NYC|      en|2022-07-17 22:46:00|LEXUS ES driver T...|         ['nyctaxi']|LEXUS ES driver T...|[lexus, es, drive...|[lexus, es, drive...|    lexus es driver c...|       -0.2732|      -1| Negative|\n",
            "| 69|         Reported|          NYC|      en|2022-07-17 20:24:57|The driver T77478...|         ['nyctaxi']|The driver T C pa...|[the, driver, t, ...|[driver, c, parke...|    driver c parked i...|           0.0|       0|  Neutral|\n",
            "| 70|         Reported|          NYC|      en|2022-07-17 18:27:14|TOYOTA Sienna dri...|         ['nyctaxi']|TOYOTA Sienna dri...|[toyota, sienna, ...|[toyota, sienna, ...|    toyota sienna dri...|       -0.2732|      -1| Negative|\n",
            "| 71|         Reported|          NYC|      en|2022-07-17 15:21:54|The driver Y20153...|         ['nyctaxi']|The driver Y C bl...|[the, driver, y, ...|[driver, y, c, bl...|    driver y c blocke...|       -0.2732|      -1| Negative|\n",
            "| 72|         Reported|          NYC|      en|2022-07-17 05:02:19|The driver T73432...|         ['nyctaxi']|The driver T C pa...|[the, driver, t, ...|[driver, c, parke...|    driver c parked i...|           0.0|       0|  Neutral|\n",
            "| 73|Des_B_Photography| New York, NY|     und|2022-07-17 02:34:55|#Tunnelvision #Tu...|['Tunnelvision', ...| Tunnelvision Tun...|[, tunnelvision, ...|[, tunnelvision, ...|     tunnelvision tun...|          0.25|       1| Positive|\n",
            "| 74|         Reported|          NYC|      en|2022-07-16 19:17:34|HONDA Accord driv...|         ['nyctaxi']|HONDA Accord driv...|[honda, accord, d...|[honda, accord, d...|    honda accord driv...|       -0.2732|      -1| Negative|\n",
            "| 75|         Reported|          NYC|      en|2022-07-16 18:50:04|TOYOTA Sienna dri...|         ['nyctaxi']|TOYOTA Sienna dri...|[toyota, sienna, ...|[toyota, sienna, ...|    toyota sienna dri...|       -0.2732|      -1| Negative|\n",
            "| 77|         Reported|          NYC|      en|2022-07-16 17:58:37|TOYOTA Sienna dri...|         ['nyctaxi']|TOYOTA Sienna dri...|[toyota, sienna, ...|[toyota, sienna, ...|    toyota sienna dri...|           0.0|       0|  Neutral|\n",
            "| 78|         Reported|          NYC|      en|2022-07-16 17:56:39|TOYOTA Sienna dri...|         ['nyctaxi']|TOYOTA Sienna dri...|[toyota, sienna, ...|[toyota, sienna, ...|    toyota sienna dri...|           0.0|       0|  Neutral|\n",
            "| 79|         Reported|          NYC|      en|2022-07-16 14:39:00|The driver T76091...|         ['nyctaxi']|The driver T C bl...|[the, driver, t, ...|[driver, c, block...|    driver c blocked ...|       -0.2732|      -1| Negative|\n",
            "| 83|         Reported|          NYC|      en|2022-07-15 22:59:56|The driver T65921...|         ['nyctaxi']|The driver T C bl...|[the, driver, t, ...|[driver, c, block...|    driver c blocked ...|       -0.2732|      -1| Negative|\n",
            "| 86|         Reported|          NYC|      en|2022-07-15 21:30:47|NISSAN NV200 driv...|         ['nyctaxi']|NISSAN NV driver ...|[nissan, nv, driv...|[nissan, nv, driv...|    nissan nv driver ...|       -0.2732|      -1| Negative|\n",
            "| 87|         Reported|          NYC|      en|2022-07-15 21:28:38|TOYOTA Camry driv...|         ['nyctaxi']|TOYOTA Camry driv...|[toyota, camry, d...|[toyota, camry, d...|    toyota camry driv...|       -0.2732|      -1| Negative|\n",
            "| 90|         Reported|          NYC|      en|2022-07-15 13:49:24|TOYOTA Camry driv...|         ['nyctaxi']|TOYOTA Camry driv...|[toyota, camry, d...|[toyota, camry, d...|    toyota camry driv...|       -0.2732|      -1| Negative|\n",
            "| 92|         Reported|          NYC|      en|2022-07-14 23:18:58|HONDA Accord driv...|         ['nyctaxi']|HONDA Accord driv...|[honda, accord, d...|[honda, accord, d...|    honda accord driv...|       -0.2732|      -1| Negative|\n",
            "| 93|         Reported|          NYC|      en|2022-07-14 23:05:27|TOYOTA Camry driv...|         ['nyctaxi']|TOYOTA Camry driv...|[toyota, camry, d...|[toyota, camry, d...|    toyota camry driv...|       -0.2732|      -1| Negative|\n",
            "| 94|         Reported|          NYC|      en|2022-07-14 23:02:51|Ford Escape SE dr...|         ['nyctaxi']|Ford Escape SE dr...|[ford, escape, se...|[ford, escape, se...|    ford escape se dr...|       -0.1027|      -1| Negative|\n",
            "| 95|         Reported|          NYC|      en|2022-07-14 15:31:38|KIA Niro driver T...|         ['nyctaxi']|KIA Niro driver T...|[kia, niro, drive...|[kia, niro, drive...|    kia niro driver c...|        -0.743|      -1| Negative|\n",
            "| 96|         Reported|          NYC|      en|2022-07-14 13:23:32|Toyota RAV4 LE dr...|         ['nyctaxi']|Toyota RAV LE dri...|[toyota, rav, le,...|[toyota, rav, le,...|    toyota rav le dri...|       -0.2732|      -1| Negative|\n",
            "| 99|         Reported|          NYC|      en|2022-07-14 12:41:32|FORD Ecosport dri...|         ['nyctaxi']|FORD Ecosport dri...|[ford, ecosport, ...|[ford, ecosport, ...|    ford ecosport dri...|       -0.2732|      -1| Negative|\n",
            "|102|         Reported|          NYC|      en|2022-07-14 12:01:01|TOYOTA Camry driv...|         ['nyctaxi']|TOYOTA Camry driv...|[toyota, camry, d...|[toyota, camry, d...|    toyota camry driv...|       -0.2732|      -1| Negative|\n",
            "|103|         Reported|          NYC|      en|2022-07-14 11:58:56|TOYOTA Camry driv...|         ['nyctaxi']|TOYOTA Camry driv...|[toyota, camry, d...|[toyota, camry, d...|    toyota camry driv...|       -0.2732|      -1| Negative|\n",
            "|105|         Reported|          NYC|      en|2022-07-14 11:48:26|TOYOTA Camry driv...|         ['nyctaxi']|TOYOTA Camry driv...|[toyota, camry, d...|[toyota, camry, d...|    toyota camry driv...|       -0.2732|      -1| Negative|\n",
            "|109|         Reported|          NYC|      en|2022-07-14 11:34:25|TOYOTA Sienna dri...|         ['nyctaxi']|TOYOTA Sienna dri...|[toyota, sienna, ...|[toyota, sienna, ...|    toyota sienna dri...|       -0.2732|      -1| Negative|\n",
            "|111|         Reported|          NYC|      en|2022-07-14 11:29:36|TOYOTA Camry driv...|         ['nyctaxi']|TOYOTA Camry driv...|[toyota, camry, d...|[toyota, camry, d...|    toyota camry driv...|       -0.2732|      -1| Negative|\n",
            "|114|         Reported|          NYC|      en|2022-07-14 11:22:00|The driver Y20113...|         ['nyctaxi']|The driver Y C bl...|[the, driver, y, ...|[driver, y, c, bl...|    driver y c blocke...|       -0.2732|      -1| Negative|\n",
            "|115|         Reported|          NYC|      en|2022-07-14 02:02:19|Buick LaCrosse dr...|         ['nyctaxi']|Buick LaCrosse dr...|[buick, lacrosse,...|[buick, lacrosse,...|    buick lacrosse dr...|       -0.2732|      -1| Negative|\n",
            "|116|         Reported|          NYC|      en|2022-07-14 01:58:02|The driver T72422...|         ['nyctaxi']|The driver T C bl...|[the, driver, t, ...|[driver, c, block...|    driver c blocked ...|       -0.2732|      -1| Negative|\n",
            "|118|         Reported|          NYC|      en|2022-07-13 22:26:16|TOYOTA RAV4 drive...|         ['nyctaxi']|TOYOTA RAV driver...|[toyota, rav, dri...|[toyota, rav, dri...|    toyota rav driver...|       -0.2732|      -1| Negative|\n",
            "|120|         Reported|          NYC|      en|2022-07-13 21:48:17|TOYOTA RAV4 drive...|         ['nyctaxi']|TOYOTA RAV driver...|[toyota, rav, dri...|[toyota, rav, dri...|    toyota rav driver...|       -0.2732|      -1| Negative|\n",
            "|125|         Reported|          NYC|      en|2022-07-13 20:06:40|HONDA Accord driv...|         ['nyctaxi']|HONDA Accord driv...|[honda, accord, d...|[honda, accord, d...|    honda accord driv...|       -0.2732|      -1| Negative|\n",
            "|130|         Reported|          NYC|      en|2022-07-13 17:11:24|HONDA Accord driv...|         ['nyctaxi']|HONDA Accord driv...|[honda, accord, d...|[honda, accord, d...|    honda accord driv...|           0.0|       0|  Neutral|\n",
            "|131|         Reported|          NYC|      en|2022-07-13 16:43:06|The driver T72787...|         ['nyctaxi']|The driver T C bl...|[the, driver, t, ...|[driver, c, block...|    driver c blocked ...|       -0.2732|      -1| Negative|\n",
            "|136|         Reported|          NYC|      en|2022-07-13 10:42:51|The driver T72423...|         ['nyctaxi']|The driver T C bl...|[the, driver, t, ...|[driver, c, block...|    driver c blocked ...|       -0.2732|      -1| Negative|\n",
            "|137|         Reported|          NYC|      en|2022-07-13 01:08:58|LEXUS RX driver T...|         ['nyctaxi']|LEXUS RX driver T...|[lexus, rx, drive...|[lexus, rx, drive...|    lexus rx driver c...|       -0.2732|      -1| Negative|\n",
            "|138|         Reported|          NYC|      en|2022-07-13 01:06:53|TOYOTA Camry driv...|         ['nyctaxi']|TOYOTA Camry driv...|[toyota, camry, d...|[toyota, camry, d...|    toyota camry driv...|       -0.2732|      -1| Negative|\n",
            "|140|         Reported|          NYC|      en|2022-07-13 01:02:10|The driver 1D93H ...|         ['nyctaxi']|The driver D H bl...|[the, driver, d, ...|[driver, d, h, bl...|    driver d h blocke...|       -0.2732|      -1| Negative|\n",
            "|146|         Reported|          NYC|      en|2022-07-13 00:18:20|The driver T60080...|         ['nyctaxi']|The driver T C bl...|[the, driver, t, ...|[driver, c, block...|    driver c blocked ...|       -0.2732|      -1| Negative|\n",
            "|150|         Reported|          NYC|      en|2022-07-12 21:24:37|The driver T66831...|         ['nyctaxi']|The driver T C bl...|[the, driver, t, ...|[driver, c, block...|    driver c blocked ...|       -0.2732|      -1| Negative|\n",
            "|151|           Leenah| New York, NY|      en|2022-07-12 21:15:53|TAXIS ARE THE MOS...|['Taxi', 'NYCTaxi...|TAXIS ARE THE MOS...|[taxis, are, the,...|[taxis, dangerous...|    taxis dangerous d...|       -0.4767|      -1| Negative|\n",
            "|152|         Reported|          NYC|      en|2022-07-12 19:30:01|The driver T71990...|         ['nyctaxi']|The driver T C dr...|[the, driver, t, ...|[driver, c, drove...|    driver c drove re...|           0.0|       0|  Neutral|\n",
            "|153|         Reported|          NYC|      en|2022-07-12 18:40:15|The driver T10246...|         ['nyctaxi']|The driver T C bl...|[the, driver, t, ...|[driver, c, block...|    driver c blocked ...|       -0.2732|      -1| Negative|\n",
            "|154|         Reported|          NYC|      en|2022-07-12 18:36:03|The driver T72467...|         ['nyctaxi']|The driver T C bl...|[the, driver, t, ...|[driver, c, block...|    driver c blocked ...|       -0.2732|      -1| Negative|\n",
            "|155|         Reported|          NYC|      en|2022-07-12 18:32:05|The driver T67925...|         ['nyctaxi']|The driver T C bl...|[the, driver, t, ...|[driver, c, block...|    driver c blocked ...|       -0.2732|      -1| Negative|\n",
            "|156|         Reported|          NYC|      en|2022-07-12 11:34:45|HYUNDAI Sonata dr...|         ['nyctaxi']|HYUNDAI Sonata dr...|[hyundai, sonata,...|[hyundai, sonata,...|    hyundai sonata dr...|       -0.2732|      -1| Negative|\n",
            "|158|         Reported|          NYC|      en|2022-07-12 08:50:24|TOYOTA Camry driv...|         ['nyctaxi']|TOYOTA Camry driv...|[toyota, camry, d...|[toyota, camry, d...|    toyota camry driv...|           0.0|       0|  Neutral|\n",
            "|159|         Reported|          NYC|      en|2022-07-12 08:47:40|Toyota Camry LE d...|         ['nyctaxi']|Toyota Camry LE d...|[toyota, camry, l...|[toyota, camry, l...|    toyota camry le d...|           0.0|       0|  Neutral|\n",
            "|160|         Reported|          NYC|      en|2022-07-12 08:44:56|INFINITI QX60 dri...|         ['nyctaxi']|INFINITI QX drive...|[infiniti, qx, dr...|[infiniti, qx, dr...|    infiniti qx drive...|           0.0|       0|  Neutral|\n",
            "|161|         Reported|          NYC|      en|2022-07-12 08:42:08|TOYOTA Camry driv...|         ['nyctaxi']|TOYOTA Camry driv...|[toyota, camry, d...|[toyota, camry, d...|    toyota camry driv...|       -0.2732|      -1| Negative|\n",
            "|162|         Reported|          NYC|      en|2022-07-12 00:41:13|TOYOTA RAV4 drive...|         ['nyctaxi']|TOYOTA RAV driver...|[toyota, rav, dri...|[toyota, rav, dri...|    toyota rav driver...|       -0.2732|      -1| Negative|\n",
            "|163|         Reported|          NYC|      en|2022-07-12 00:32:04|TOYOTA Camry driv...|         ['nyctaxi']|TOYOTA Camry driv...|[toyota, camry, d...|[toyota, camry, d...|    toyota camry driv...|           0.0|       0|  Neutral|\n",
            "|164|         Reported|          NYC|      en|2022-07-11 23:59:10|TOYOTA RAV4 drive...|         ['nyctaxi']|TOYOTA RAV driver...|[toyota, rav, dri...|[toyota, rav, dri...|    toyota rav driver...|       -0.2732|      -1| Negative|\n",
            "|165|         Reported|          NYC|      en|2022-07-11 23:42:50|The driver T72184...|         ['nyctaxi']|The driver T C pa...|[the, driver, t, ...|[driver, c, parke...|    driver c parked i...|           0.0|       0|  Neutral|\n",
            "|166|         Reported|          NYC|      en|2022-07-11 23:30:24|The driver T74729...|         ['nyctaxi']|The driver T C bl...|[the, driver, t, ...|[driver, c, block...|    driver c blocked ...|       -0.2732|      -1| Negative|\n",
            "|167|         Reported|          NYC|      en|2022-07-11 22:37:35|TOYOTA Highlander...|         ['nyctaxi']|TOYOTA Highlander...|[toyota, highland...|[toyota, highland...|    toyota highlander...|           0.0|       0|  Neutral|\n",
            "|168|         Reported|          NYC|      en|2022-07-11 22:00:38|VOLVO S90 driver ...|         ['nyctaxi']|VOLVO S driver T ...|[volvo, s, driver...|[volvo, driver, c...|    volvo driver c bl...|       -0.2732|      -1| Negative|\n",
            "|169|         Reported|          NYC|      en|2022-07-11 20:40:08|TOYOTA Camry driv...|         ['nyctaxi']|TOYOTA Camry driv...|[toyota, camry, d...|[toyota, camry, d...|    toyota camry driv...|        0.2263|       1| Positive|\n",
            "+---+-----------------+-------------+--------+-------------------+--------------------+--------------------+--------------------+--------------------+--------------------+------------------------+--------------+--------+---------+\n",
            "only showing top 100 rows\n",
            "\n"
          ]
        }
      ]
    },
    {
      "cell_type": "code",
      "source": [
        "from pyspark.sql.functions import date_format\n",
        "# df = data.withColumn('dayofweek', F.dayofweek(data['date']))\n",
        "df = data.withColumn(\"Time\",date_format(\"date\",\"HH:mm:ss\"))\n",
        "df = df.withColumn('hour', F.hour(data['date']))\n",
        "df = df.withColumn(\"Minutes\", F.minute(data['date']))\n",
        "df = df.withColumn(\"day\", date_format('date', 'EEEE'))\n",
        "# df = df.withColumn(\"Time\",to_timestamp(col(\"date\"),\"HH:mm:ss.SSS\"))"
      ],
      "metadata": {
        "id": "yAa6CzfFTwd0"
      },
      "execution_count": null,
      "outputs": []
    },
    {
      "cell_type": "code",
      "source": [
        "df.show()"
      ],
      "metadata": {
        "colab": {
          "base_uri": "https://localhost:8080/"
        },
        "id": "TzlU7Uy2VVwh",
        "outputId": "8f708f77-07c9-412e-e2b8-7eae5993f91d"
      },
      "execution_count": null,
      "outputs": [
        {
          "output_type": "stream",
          "name": "stdout",
          "text": [
            "+---+---------+-------------+--------+-------------------+--------------------+-----------+--------------------+--------------------+--------------------+------------------------+--------------+--------+---------+--------+----+-------+---------+\n",
            "|_c0|user_name|user_location|language|               date|                text|   hashtags|      cleanTweetText|               words|   filteredTweetText|filteredCleanedTweetText|sentimentScore|Polarity|Sentiment|    Time|hour|Minutes|      day|\n",
            "+---+---------+-------------+--------+-------------------+--------------------+-----------+--------------------+--------------------+--------------------+------------------------+--------------+--------+---------+--------+----+-------+---------+\n",
            "|  0| Reported|          NYC|      en|2022-07-20 20:51:16|The driver T73791...|['nyctaxi']|The driver T C bl...|[the, driver, t, ...|[driver, c, block...|    driver c blocked ...|       -0.2732|      -1| Negative|20:51:16|  20|     51|Wednesday|\n",
            "|  1| Reported|          NYC|      en|2022-07-20 20:35:58|The driver Y20081...|['nyctaxi']|The driver Y C ra...|[the, driver, y, ...|[driver, y, c, ra...|    driver y c ran re...|        -0.296|      -1| Negative|20:35:58|  20|     35|Wednesday|\n",
            "|  2| Reported|          NYC|      en|2022-07-20 20:33:52|The driver T78776...|['nyctaxi']|The driver T C pa...|[the, driver, t, ...|[driver, c, parke...|    driver c parked i...|           0.0|       0|  Neutral|20:33:52|  20|     33|Wednesday|\n",
            "|  3| Reported|          NYC|      en|2022-07-20 20:30:50|The driver T75437...|['nyctaxi']|The driver T C bl...|[the, driver, t, ...|[driver, c, block...|    driver c blocked ...|       -0.2732|      -1| Negative|20:30:50|  20|     30|Wednesday|\n",
            "|  4| Reported|          NYC|      en|2022-07-20 20:25:01|The driver Y20272...|['nyctaxi']|The driver Y C ra...|[the, driver, y, ...|[driver, y, c, ra...|    driver y c ran re...|        -0.296|      -1| Negative|20:25:01|  20|     25|Wednesday|\n",
            "|  5| Reported|          NYC|      en|2022-07-20 18:59:48|TOYOTA PRIUS V dr...|['nyctaxi']|TOYOTA PRIUS V dr...|[toyota, prius, v...|[toyota, prius, v...|    toyota prius v dr...|       -0.2732|      -1| Negative|18:59:48|  18|     59|Wednesday|\n",
            "|  8| Reported|          NYC|      en|2022-07-20 18:38:44|TOYOTA Camry driv...|['nyctaxi']|TOYOTA Camry driv...|[toyota, camry, d...|[toyota, camry, d...|    toyota camry driv...|       -0.2732|      -1| Negative|18:38:44|  18|     38|Wednesday|\n",
            "|  9| Reported|          NYC|      en|2022-07-20 18:36:36|HONDA Accord driv...|['nyctaxi']|HONDA Accord driv...|[honda, accord, d...|[honda, accord, d...|    honda accord driv...|       -0.2732|      -1| Negative|18:36:36|  18|     36|Wednesday|\n",
            "| 11| Reported|          NYC|      en|2022-07-20 18:06:15|TOYOTA RAV4 drive...|['nyctaxi']|TOYOTA RAV driver...|[toyota, rav, dri...|[toyota, rav, dri...|    toyota rav driver...|       -0.2732|      -1| Negative|18:06:15|  18|      6|Wednesday|\n",
            "| 12| Reported|          NYC|      en|2022-07-20 16:48:24|Honda Accord Spor...|['nyctaxi']|Honda Accord Spor...|[honda, accord, s...|[honda, accord, s...|    honda accord spor...|           0.0|       0|  Neutral|16:48:24|  16|     48|Wednesday|\n",
            "| 13| Reported|          NYC|      en|2022-07-20 16:46:21|TOYOTA Camry driv...|['nyctaxi']|TOYOTA Camry driv...|[toyota, camry, d...|[toyota, camry, d...|    toyota camry driv...|       -0.2732|      -1| Negative|16:46:21|  16|     46|Wednesday|\n",
            "| 14| Reported|          NYC|      en|2022-07-20 14:10:27|Toyota Camry L dr...|['nyctaxi']|Toyota Camry L dr...|[toyota, camry, l...|[toyota, camry, l...|    toyota camry l dr...|        0.2263|       1| Positive|14:10:27|  14|     10|Wednesday|\n",
            "| 15| Reported|          NYC|      en|2022-07-20 13:31:20|INFINITI QX60 dri...|['nyctaxi']|INFINITI QX drive...|[infiniti, qx, dr...|[infiniti, qx, dr...|    infiniti qx drive...|        0.2263|       1| Positive|13:31:20|  13|     31|Wednesday|\n",
            "| 16| Reported|          NYC|      en|2022-07-20 10:54:57|The driver Y20391...|['nyctaxi']|The driver Y C bl...|[the, driver, y, ...|[driver, y, c, bl...|    driver y c blocke...|       -0.2732|      -1| Negative|10:54:57|  10|     54|Wednesday|\n",
            "| 19| Reported|          NYC|      en|2022-07-20 00:39:33|GMC Yukon driver ...|['nyctaxi']|GMC Yukon driver ...|[gmc, yukon, driv...|[gmc, yukon, driv...|    gmc yukon driver ...|       -0.2732|      -1| Negative|00:39:33|   0|     39|Wednesday|\n",
            "| 21| Reported|          NYC|      en|2022-07-19 22:58:43|TOYOTA RAV4 drive...|['nyctaxi']|TOYOTA RAV driver...|[toyota, rav, dri...|[toyota, rav, dri...|    toyota rav driver...|           0.0|       0|  Neutral|22:58:43|  22|     58|  Tuesday|\n",
            "| 22| Reported|          NYC|      en|2022-07-19 22:50:12|The driver T63405...|['nyctaxi']|The driver T C bl...|[the, driver, t, ...|[driver, c, block...|    driver c blocked ...|       -0.2732|      -1| Negative|22:50:12|  22|     50|  Tuesday|\n",
            "| 25| Reported|          NYC|      en|2022-07-19 21:45:05|TOYOTA PRIUS driv...|['nyctaxi']|TOYOTA PRIUS driv...|[toyota, prius, d...|[toyota, prius, d...|    toyota prius driv...|       -0.2732|      -1| Negative|21:45:05|  21|     45|  Tuesday|\n",
            "| 26| Reported|          NYC|      en|2022-07-19 21:20:27|The driver Y20151...|['nyctaxi']|The driver Y C ra...|[the, driver, y, ...|[driver, y, c, ra...|    driver y c ran re...|        -0.296|      -1| Negative|21:20:27|  21|     20|  Tuesday|\n",
            "| 27| Reported|          NYC|      en|2022-07-19 20:02:22|TOYOTA Sienna dri...|['nyctaxi']|TOYOTA Sienna dri...|[toyota, sienna, ...|[toyota, sienna, ...|    toyota sienna dri...|       -0.2732|      -1| Negative|20:02:22|  20|      2|  Tuesday|\n",
            "+---+---------+-------------+--------+-------------------+--------------------+-----------+--------------------+--------------------+--------------------+------------------------+--------------+--------+---------+--------+----+-------+---------+\n",
            "only showing top 20 rows\n",
            "\n"
          ]
        }
      ]
    },
    {
      "cell_type": "code",
      "source": [
        "df.toPandas().to_csv('/content/drive/MyDrive/clientmysql/Sentiment.csv',index=False)"
      ],
      "metadata": {
        "id": "ESyvRFP4BAz3"
      },
      "execution_count": null,
      "outputs": []
    },
    {
      "cell_type": "code",
      "source": [],
      "metadata": {
        "id": "wtUEaYvzBlbu"
      },
      "execution_count": null,
      "outputs": []
    }
  ]
}
